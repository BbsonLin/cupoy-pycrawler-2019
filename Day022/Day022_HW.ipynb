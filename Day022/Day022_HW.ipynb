{
 "cells": [
  {
   "cell_type": "markdown",
   "metadata": {},
   "source": [
    "# 空氣污染監測網 網路爬蟲實作練習\n",
    "\n",
    "\n",
    "* 能夠利用 selenium + BeautifulSoup 撰寫爬蟲，並存放到合適的資料結構\n"
   ]
  },
  {
   "cell_type": "markdown",
   "metadata": {},
   "source": [
    "## 作業目標\n",
    "\n",
    "根據範例 ，完成以下問題：\n",
    "\n",
    "* ① 取出 台北市士林區 2018/01 – 2018/08 的 SO2 資料\n",
    "* ② 取出 台北市士林區 2018/01 – 2018/08 的 SO2、CO 資料\n",
    "\n",
    "\n",
    "\n"
   ]
  },
  {
   "cell_type": "code",
   "execution_count": 1,
   "metadata": {},
   "outputs": [],
   "source": [
    "import datetime\n",
    "\n",
    "from selenium import webdriver\n",
    "from selenium.webdriver.support.ui import Select\n",
    "from bs4 import BeautifulSoup"
   ]
  },
  {
   "cell_type": "markdown",
   "metadata": {},
   "source": [
    "### ① 取出 台北市士林區 2018/01 – 2018/08 的 SO2 資料"
   ]
  },
  {
   "cell_type": "code",
   "execution_count": 2,
   "metadata": {},
   "outputs": [],
   "source": [
    "browser = webdriver.Chrome(executable_path='./chromedriver')\n",
    "browser.get(\"http://taqm.epa.gov.tw/taqm/tw/MonthlyAverage.aspx\")\n",
    "\n",
    "selectSite = Select(browser.find_element_by_id(\"ctl05_ddlSite\"))\n",
    "selectSite.select_by_value('11')\n",
    "selectYear = Select(browser.find_element_by_id(\"ctl05_ddlYear\"))\n",
    "selectYear.select_by_value('2018')\n",
    "\n",
    "browser.find_element_by_id('ctl05_btnQuery').click()"
   ]
  },
  {
   "cell_type": "code",
   "execution_count": 4,
   "metadata": {},
   "outputs": [
    {
     "data": {
      "text/plain": [
       "{'2018/01': '1.80',\n",
       " '2018/02': '1.90',\n",
       " '2018/03': '2.20',\n",
       " '2018/04': '2.30',\n",
       " '2018/05': '3.10',\n",
       " '2018/06': '2.70',\n",
       " '2018/07': '2.20',\n",
       " '2018/08': '2.40'}"
      ]
     },
     "execution_count": 4,
     "metadata": {},
     "output_type": "execute_result"
    }
   ],
   "source": [
    "html_source = browser.page_source\n",
    "\n",
    "soup = BeautifulSoup(html_source, 'html.parser')\n",
    "table = soup.find('table', class_='TABLE_G')\n",
    "\n",
    "so2_data = {}\n",
    "item_type = ''\n",
    "\n",
    "table_tr = table.find_all('tr')\n",
    "table_td = [tr.find_all('td') for tr in table_tr]\n",
    "\n",
    "for td in table_td:\n",
    "    if len(td) == 5:\n",
    "        item_type = td[0].text\n",
    "    if item_type == 'SO2' and len(td) > 0:\n",
    "        td_date = datetime.datetime.strptime(td[-3].text, '%Y/%m')\n",
    "        if td_date.month < 9:\n",
    "            so2_data.update({td_date.strftime('%Y/%m'): td[-2].text})\n",
    "\n",
    "so2_data"
   ]
  },
  {
   "cell_type": "markdown",
   "metadata": {},
   "source": [
    "### ② 取出 台北市士林區 2018/01 – 2018/08 的 SO2、CO 資料"
   ]
  },
  {
   "cell_type": "code",
   "execution_count": 5,
   "metadata": {},
   "outputs": [
    {
     "name": "stdout",
     "output_type": "stream",
     "text": [
      "SO2 data: {'2018/01': '1.80', '2018/02': '1.90', '2018/03': '2.20', '2018/04': '2.30', '2018/05': '3.10', '2018/06': '2.70', '2018/07': '2.20', '2018/08': '2.40'}\n",
      "CO data: {'2018/01': '0.34', '2018/02': '0.44', '2018/03': '0.40', '2018/04': '0.38', '2018/05': '0.34', '2018/06': '0.29', '2018/07': '0.21', '2018/08': '0.30'}\n"
     ]
    }
   ],
   "source": [
    "so2_data = {}\n",
    "co_data = {}\n",
    "\n",
    "for td in table_td:\n",
    "    if len(td) == 5:\n",
    "        item_type = td[0].text\n",
    "    if item_type == 'SO2' and len(td) > 0:\n",
    "        td_date = datetime.datetime.strptime(td[-3].text, '%Y/%m')\n",
    "        if td_date.month < 9:\n",
    "            so2_data.update({td_date.strftime('%Y/%m'): td[-2].text})\n",
    "    if item_type == 'CO' and len(td) > 0:\n",
    "        td_date = datetime.datetime.strptime(td[-3].text, '%Y/%m')\n",
    "        if td_date.month < 9:\n",
    "            co_data.update({td_date.strftime('%Y/%m'): td[-2].text})\n",
    "\n",
    "print('SO2 data:', so2_data)\n",
    "print('CO data:', co_data)"
   ]
  },
  {
   "cell_type": "code",
   "execution_count": null,
   "metadata": {},
   "outputs": [],
   "source": []
  }
 ],
 "metadata": {
  "kernelspec": {
   "display_name": "Python 3",
   "language": "python",
   "name": "python3"
  },
  "language_info": {
   "codemirror_mode": {
    "name": "ipython",
    "version": 3
   },
   "file_extension": ".py",
   "mimetype": "text/x-python",
   "name": "python",
   "nbconvert_exporter": "python",
   "pygments_lexer": "ipython3",
   "version": "3.6.4"
  }
 },
 "nbformat": 4,
 "nbformat_minor": 2
}

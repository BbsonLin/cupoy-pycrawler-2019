{
 "cells": [
  {
   "cell_type": "markdown",
   "metadata": {},
   "source": [
    "# PTT 網路爬蟲實作練習\n",
    "\n",
    "\n",
    "* 能夠利用 Request + BeatifulSour 撰寫爬蟲，並存放到合適的資料結構\n"
   ]
  },
  {
   "cell_type": "markdown",
   "metadata": {},
   "source": [
    "## 作業目標\n",
    "\n",
    "根據範例 ，完成以下問題：\n",
    "\n",
    "* ① 印出最新文章的「作者」「標題」「時間」\n",
    "* ② 印出第一頁所有文章的「作者」「標題」「時間」\n"
   ]
  },
  {
   "cell_type": "markdown",
   "metadata": {},
   "source": [
    "### ① 印出最新文章的「作者」「標題」「時間」"
   ]
  },
  {
   "cell_type": "code",
   "execution_count": 1,
   "metadata": {},
   "outputs": [
    {
     "name": "stdout",
     "output_type": "stream",
     "text": [
      "作者: asdf1256 標題: [新聞] 歐克利：一眉哥不應離開湖人 時間: 12/23\n",
      "作者: Vedan 標題: [公告] 板規v6.7 時間:  5/24\n",
      "作者: Vedan 標題: [公告] 樂透取消及未來不再開啟樂透 時間:  6/24\n",
      "作者: qazwsx879345 標題: [公告] 版主上任相關事項  時間: 10/25\n",
      "作者: JerroLi 標題: [情報] SEASON Schedule 賽程 December 19–20 時間: 11/29\n",
      "作者: dragon803 標題: [公告] 是否禁止記者鄭廷瑋文章投票開始 時間: 12/16\n"
     ]
    }
   ],
   "source": [
    "import requests\n",
    "from bs4 import BeautifulSoup\n",
    "\n",
    "url = 'https://www.ptt.cc/bbs/NBA/index.html'\n",
    "r = requests.get(url)\n",
    "\n",
    "soup = BeautifulSoup(r.text)\n",
    "\n",
    "for d in soup.find_all(class_=\"r-ent\"):\n",
    "    author = d.find(class_='author').text\n",
    "    title = d.find(class_='title').find('a').text\n",
    "    date = d.find(class_='date').text\n",
    "    print('作者:', author, '標題:', title, '時間:', date)\n",
    "    "
   ]
  },
  {
   "cell_type": "markdown",
   "metadata": {},
   "source": [
    "### ② 印出第一頁所有文章的「作者」「標題」「時間」"
   ]
  },
  {
   "cell_type": "code",
   "execution_count": 2,
   "metadata": {},
   "outputs": [
    {
     "name": "stdout",
     "output_type": "stream",
     "text": [
      "作者: Price 標題: [轉錄]Lyotard 對於太陽板討論串的結論 時間:  5/16\n",
      "作者: Price 標題: [公告] 請停止一切關於本次活動的發言 時間:  5/31\n",
      "作者: Frankaze 標題: [轉錄]跟之前那篇比起來 我覺得這篇也應該轉過來 時間:  6/08\n",
      "作者: Frankaze 標題: [轉錄]再轉一篇好文來 時間:  6/08\n",
      "作者: Price 標題: [轉錄][情報] 夏洛特山貓系列 時間:  6/10\n",
      "作者: Price 標題: [轉錄]Re: [心得] 真是受不了糗爺.... 時間:  6/10\n",
      "作者: Price 標題: [轉錄]總冠軍賽NO.2觀後感 時間:  6/10\n",
      "作者: AmuroNamie 標題: [心得] Rasheed Wallace 時間:  6/11\n",
      "作者: toptree 標題: 掌控球賽的男人 時間:  6/12\n",
      "作者: skchang 標題: [閒聊] 說說2004季後賽名場面回顧 時間:  6/12\n",
      "作者: shineup 標題: [心得] 其實說穿了 就是活塞的防守太可怕了 時間:  6/12\n",
      "作者: cOvi 標題: Re: [閒聊] 說說2004季後賽名場面回顧 時間:  6/12\n",
      "作者: ykshih 標題: Re: [閒聊] 說說2004季後賽名場面回顧 時間:  6/12\n",
      "作者: Frankaze 標題: Re: [閒聊] 說說2004季後賽名場面回顧 時間:  6/12\n",
      "作者: Price 標題: [轉錄]Re: 總冠軍賽NO.3觀後感 時間:  6/14\n",
      "作者: Frankaze 標題: [轉錄]Re: 總冠軍賽NO.3觀後感 時間:  6/14\n",
      "作者: star1 標題: Re: [轉錄]Re: 總冠軍賽NO.3觀後感 時間:  6/14\n",
      "作者: coldspring 標題: Re: [轉錄]Re: 總冠軍賽NO.3觀後感 時間:  6/14\n",
      "作者: airbear 標題: Re: Kobe is frustrated... 時間:  6/14\n",
      "作者: pennykidd 標題: Re: [轉錄]Re: 總冠軍賽NO.3觀後感 時間:  6/14\n"
     ]
    }
   ],
   "source": [
    "import requests\n",
    "from bs4 import BeautifulSoup\n",
    "\n",
    "url = 'https://www.ptt.cc/bbs/NBA/index1.html'\n",
    "r = requests.get(url)\n",
    "\n",
    "soup = BeautifulSoup(r.text)\n",
    "\n",
    "for d in soup.find_all(class_=\"r-ent\"):\n",
    "    author = d.find(class_='author').text\n",
    "    title = d.find(class_='title').find('a').text\n",
    "    date = d.find(class_='date').text\n",
    "    print('作者:', author, '標題:', title, '時間:', date)"
   ]
  },
  {
   "cell_type": "markdown",
   "metadata": {},
   "source": [
    "### ③ 試著爬爬看其他版的文章"
   ]
  },
  {
   "cell_type": "code",
   "execution_count": 3,
   "metadata": {},
   "outputs": [
    {
     "name": "stdout",
     "output_type": "stream",
     "text": [
      "作者: th2113 標題: Re: [情報] 2020年度獨享禮遇JCB 時間: 12/23\n",
      "作者: heavener 標題: Re: [情報] 2020年度獨享禮遇JCB (悠遊卡自動加值10%延續) 時間: 12/23\n",
      "作者: pttkobe 標題: Re: [情報] (彰銀MY樂卡) 6 Pay享6%，My樂94神 時間: 12/23\n",
      "作者: redted 標題: [問題] 請問最近有人預約國泰長榮的機場接送? 時間: 12/23\n",
      "作者: prepare26 標題: [心得] 美國運通長榮航空簽帳白金卡 無照會 核卡 時間: 12/23\n",
      "作者: foreverha 標題: [問題] 長居國外辦卡建議 時間: 12/23\n",
      "作者: MoonAthenaX 標題: [公告] === 卡板板規 V8.0 === (2018/05/25修訂) 時間:  2/28\n",
      "作者: bboy0720 標題: [公告] 置底檢舉專區 時間:  3/05\n",
      "作者: MoonAthenaX 標題: [情報] 各家銀行0800免付費電話 時間:  3/09\n",
      "作者: DarkRobert 標題: [整理] 小資族 日常消費優惠 回饋統整 (11/08) 時間:  6/13\n",
      "作者: cokelon 標題: [心得] 2019下半年用卡整理 (12/4更新) 時間:  7/02\n"
     ]
    }
   ],
   "source": [
    "import requests\n",
    "from bs4 import BeautifulSoup\n",
    "\n",
    "url = 'https://www.ptt.cc/bbs/creditcard/index.html'\n",
    "r = requests.get(url)\n",
    "\n",
    "soup = BeautifulSoup(r.text)\n",
    "\n",
    "for d in soup.find_all(class_=\"r-ent\"):\n",
    "    author = d.find(class_='author').text\n",
    "    title = d.find(class_='title').find('a').text\n",
    "    date = d.find(class_='date').text\n",
    "    print('作者:', author, '標題:', title, '時間:', date)"
   ]
  },
  {
   "cell_type": "code",
   "execution_count": null,
   "metadata": {},
   "outputs": [],
   "source": []
  }
 ],
 "metadata": {
  "kernelspec": {
   "display_name": "Python 3",
   "language": "python",
   "name": "python3"
  },
  "language_info": {
   "codemirror_mode": {
    "name": "ipython",
    "version": 3
   },
   "file_extension": ".py",
   "mimetype": "text/x-python",
   "name": "python",
   "nbconvert_exporter": "python",
   "pygments_lexer": "ipython3",
   "version": "3.6.4"
  }
 },
 "nbformat": 4,
 "nbformat_minor": 2
}

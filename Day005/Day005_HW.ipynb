{
 "cells": [
  {
   "cell_type": "markdown",
   "metadata": {},
   "source": [
    "# API 資料串接 - 以 Dcard API 實作範例\n",
    "\n",
    "* 利用 urllib 套件的 urlretrieve 方法下載檔案\n",
    "* 了解 Python File I/O 讀檔、寫檔的用法\n",
    "* 能用運用資源管理器 With Statement 優化寫法"
   ]
  },
  {
   "cell_type": "markdown",
   "metadata": {},
   "source": [
    "## 作業目標\n",
    "\n",
    "* 請利用 API: https://www.dcard.tw/_api/forums/pet/posts?popular=true 回答下列問題：\n",
    "\n",
    "1. 這個 API 一次會回傳幾筆資料？每一筆資料包含哪些欄位？\n",
    "2. 取出每一筆資料的「標題」、「貼文時間」、「留言人數」、「按讚人數」\n",
    "3. 計算熱門/非熱門文章的「平均留言人數」與「平均按讚人數」"
   ]
  },
  {
   "cell_type": "code",
   "execution_count": 1,
   "metadata": {},
   "outputs": [],
   "source": [
    "import json\n",
    "import requests"
   ]
  },
  {
   "cell_type": "code",
   "execution_count": 10,
   "metadata": {},
   "outputs": [
    {
     "name": "stdout",
     "output_type": "stream",
     "text": [
      "30 筆資料\n",
      "欄位: dict_keys(['id', 'title', 'excerpt', 'anonymousSchool', 'anonymousDepartment', 'pinned', 'forumId', 'replyId', 'createdAt', 'updatedAt', 'commentCount', 'likeCount', 'withNickname', 'tags', 'topics', 'meta', 'forumName', 'forumAlias', 'gender', 'school', 'department', 'replyTitle', 'mediaMeta', 'reactions', 'hidden', 'customStyle', 'isSuspiciousAccount', 'layout', 'withImages', 'withVideos', 'media', 'reportReasonText', 'postAvatar'])\n"
     ]
    }
   ],
   "source": [
    "# 1. 這個 API 一次會回傳幾筆資料？每一筆資料包含哪些欄位？\n",
    "\n",
    "resp = requests.get('https://www.dcard.tw/_api/forums/pet/posts?popular=true')\n",
    "pop_data = json.loads(resp.text)\n",
    "print(len(pop_data), \"筆資料\")\n",
    "print(\"欄位:\", pop_data[0].keys())"
   ]
  },
  {
   "cell_type": "code",
   "execution_count": 11,
   "metadata": {},
   "outputs": [
    {
     "name": "stdout",
     "output_type": "stream",
     "text": [
      "標題: 我養到別人家的貓, 貼文時間: 2019-11-27T02:15:28.197Z, 留言人數: 8, 按讚人數: 178\n",
      "標題: 哪裡來的天使, 貼文時間: 2019-11-27T03:55:26.087Z, 留言人數: 2, 按讚人數: 146\n",
      "標題: 有沒有人想要認養貓😢, 貼文時間: 2019-11-27T04:05:54.907Z, 留言人數: 12, 按讚人數: 117\n",
      "標題: 最近刺蝟有點苦惱……, 貼文時間: 2019-11-27T14:09:04.187Z, 留言人數: 7, 按讚人數: 92\n",
      "標題: 貓咪送養, 貼文時間: 2019-11-27T15:53:37.579Z, 留言人數: 5, 按讚人數: 61\n",
      "標題: 我好像養了一顆球（？, 貼文時間: 2019-11-27T02:51:29.228Z, 留言人數: 8, 按讚人數: 34\n",
      "標題: 跪求原圖, 貼文時間: 2019-11-27T09:03:30.781Z, 留言人數: 3, 按讚人數: 32\n",
      "標題: 教不到2天就會握手的貓？！, 貼文時間: 2019-11-27T19:05:47.181Z, 留言人數: 13, 按讚人數: 30\n",
      "標題: 黑貓, 貼文時間: 2019-11-27T01:46:18.916Z, 留言人數: 3, 按讚人數: 30\n",
      "標題: 藏起來的蛋蛋, 貼文時間: 2019-11-26T18:06:41.515Z, 留言人數: 7, 按讚人數: 30\n",
      "標題: 可愛ㄉ米克斯🐶, 貼文時間: 2019-11-27T03:08:52.535Z, 留言人數: 9, 按讚人數: 28\n",
      "標題: #更新  尋貓啟示（拜託幫幫忙, 貼文時間: 2019-11-27T02:42:25.099Z, 留言人數: 2, 按讚人數: 25\n",
      "標題: 小cookie 一歲生日嘍, 貼文時間: 2019-11-27T13:29:28.841Z, 留言人數: 2, 按讚人數: 22\n",
      "標題: 兔子吃草a跩樣, 貼文時間: 2019-11-27T17:48:07.040Z, 留言人數: 1, 按讚人數: 20\n",
      "標題: 送養貓咪, 貼文時間: 2019-11-27T14:33:01.950Z, 留言人數: 2, 按讚人數: 19\n",
      "標題: 開箱ㄐㄅ貓貓, 貼文時間: 2019-11-27T16:20:13.198Z, 留言人數: 1, 按讚人數: 16\n",
      "標題: 尋貓啟示#台南永康南應大, 貼文時間: 2019-11-27T11:11:21.836Z, 留言人數: 4, 按讚人數: 16\n",
      "標題: 耐ㄍ⋯, 貼文時間: 2019-11-27T16:36:38.742Z, 留言人數: 7, 按讚人數: 15\n",
      "標題: 蛇蛇吃飯（不喜勿入喔, 貼文時間: 2019-11-27T07:36:04.550Z, 留言人數: 4, 按讚人數: 13\n",
      "標題: ［協助汪星人回家］, 貼文時間: 2019-11-27T02:13:43.258Z, 留言人數: 0, 按讚人數: 12\n",
      "標題: 妳的柯基犬很可愛, 貼文時間: 2019-11-27T12:15:40.192Z, 留言人數: 12, 按讚人數: 11\n",
      "標題: 幼貓送養文, 貼文時間: 2019-11-28T02:52:25.651Z, 留言人數: 2, 按讚人數: 10\n",
      "標題: 貓咪要如何避免被自己的💩臭死？, 貼文時間: 2019-11-27T14:33:19.704Z, 留言人數: 2, 按讚人數: 9\n",
      "標題: 終於知道去哪裡學來的睡姿⋯⋯, 貼文時間: 2019-11-27T08:59:09.803Z, 留言人數: 8, 按讚人數: 9\n",
      "標題: 睡姿同步之雙傻組, 貼文時間: 2019-11-27T00:56:58.462Z, 留言人數: 1, 按讚人數: 9\n",
      "標題: 我家阿北有老人味🦜 求解, 貼文時間: 2019-11-27T16:39:41.215Z, 留言人數: 4, 按讚人數: 7\n",
      "標題: 求領養🙏🏼, 貼文時間: 2019-11-27T16:26:53.184Z, 留言人數: 0, 按讚人數: 6\n",
      "標題: #片  男帥女俏, 貼文時間: 2019-11-27T15:48:46.456Z, 留言人數: 1, 按讚人數: 6\n",
      "標題: 女大十八變❓🤷🏻‍♀️, 貼文時間: 2019-11-27T15:40:40.727Z, 留言人數: 1, 按讚人數: 6\n",
      "標題: 我家的貓會握手了！, 貼文時間: 2019-11-27T16:47:38.502Z, 留言人數: 2, 按讚人數: 5\n"
     ]
    }
   ],
   "source": [
    "# 2. 取出每一筆資料的「標題」、「貼文時間」、「留言人數」、「按讚人數」\n",
    "\n",
    "for data in pop_data:\n",
    "    print(f\"標題: {data['title']}, 貼文時間: {data['createdAt']}, 留言人數: {data['commentCount']}, 按讚人數: {data['likeCount']}\")"
   ]
  },
  {
   "cell_type": "code",
   "execution_count": 16,
   "metadata": {},
   "outputs": [
    {
     "name": "stdout",
     "output_type": "stream",
     "text": [
      "熱門文章 平均留言人數: 4.433333333333334\n",
      "熱門文章 平均按讚人數: 33.8\n",
      "--------------------\n",
      "非熱門文章 平均留言人數: 2.8\n",
      "非熱門文章 平均按讚人數: 12.2\n"
     ]
    }
   ],
   "source": [
    "# 3. 計算熱門/非熱門文章的「平均留言人數」與「平均按讚人數」\n",
    "from statistics import mean\n",
    "\n",
    "resp = requests.get('https://www.dcard.tw/_api/forums/pet/posts?popular=false')\n",
    "nonpop_data = resp.json()\n",
    "\n",
    "print(\"熱門文章 平均留言人數:\", mean([data['commentCount'] for data in pop_data]))\n",
    "print(\"熱門文章 平均按讚人數:\", mean([data['likeCount'] for data in pop_data]))\n",
    "print(\"--\"*10)\n",
    "print(\"非熱門文章 平均留言人數:\", mean([data['commentCount'] for data in nonpop_data]))\n",
    "print(\"非熱門文章 平均按讚人數:\", mean([data['likeCount'] for data in nonpop_data]))"
   ]
  },
  {
   "cell_type": "code",
   "execution_count": null,
   "metadata": {},
   "outputs": [],
   "source": []
  }
 ],
 "metadata": {
  "kernelspec": {
   "display_name": "Python 3",
   "language": "python",
   "name": "python3"
  },
  "language_info": {
   "codemirror_mode": {
    "name": "ipython",
    "version": 3
   },
   "file_extension": ".py",
   "mimetype": "text/x-python",
   "name": "python",
   "nbconvert_exporter": "python",
   "pygments_lexer": "ipython3",
   "version": "3.6.4"
  }
 },
 "nbformat": 4,
 "nbformat_minor": 2
}
